{
  "nbformat": 4,
  "nbformat_minor": 0,
  "metadata": {
    "colab": {
      "name": "Untitled0.ipynb",
      "provenance": [],
      "authorship_tag": "ABX9TyMqj6S8AL/w6wv9H01kxwfV",
      "include_colab_link": true
    },
    "kernelspec": {
      "name": "python3",
      "display_name": "Python 3"
    }
  },
  "cells": [
    {
      "cell_type": "markdown",
      "metadata": {
        "id": "view-in-github",
        "colab_type": "text"
      },
      "source": [
        "<a href=\"https://colab.research.google.com/github/adi-geek2/hello-world/blob/master/Basic_python.ipynb\" target=\"_parent\"><img src=\"https://colab.research.google.com/assets/colab-badge.svg\" alt=\"Open In Colab\"/></a>"
      ]
    },
    {
      "cell_type": "code",
      "metadata": {
        "id": "6rOYiBAVPWdE",
        "colab_type": "code",
        "colab": {}
      },
      "source": [
        "#Rules for variable assignment\n",
        "#Case sensitive, don't use this smartly\n",
        "#Bad to start with numbers \n",
        "#Underscore is allowed"
      ],
      "execution_count": 0,
      "outputs": []
    }
  ]
}